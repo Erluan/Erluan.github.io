{
 "cells": [
  {
   "cell_type": "markdown",
   "metadata": {},
   "source": [
    "# Convertendo Áudio para Texto\n",
    "\n",
    "Então, é mais simples encontrar em qual momento tão assunto ou palavra foi dita em um arquivo de texto, ao inves de procurá-la no arquivo de áudio, utilizando a navegação do aplicativo Player de Áudio.\n",
    "\n",
    "Para a conversão, foi necessário o uso de uma biblioteca open sourvede \"Speech Recognition\" (Reconhecimento de Fala). Esse tipo de biblioteca muito utilizada em ferramentas e aplicativos como Google Tradutor, e no próprio YouTube, com sua função de legendar os vídeos.\n",
    "\n",
    "Quanto mais limpo, alto e claro o áudio for, mais \"preciso\" o reconhecimento da fala e conversa será.\n"
   ]
  }
 ],
 "metadata": {
  "kernelspec": {
   "display_name": "Python 3",
   "language": "python",
   "name": "python3"
  },
  "language_info": {
   "codemirror_mode": {
    "name": "ipython",
    "version": 3
   },
   "file_extension": ".py",
   "mimetype": "text/x-python",
   "name": "python",
   "nbconvert_exporter": "python",
   "pygments_lexer": "ipython3",
   "version": "3.6.3"
  }
 },
 "nbformat": 4,
 "nbformat_minor": 2
}
